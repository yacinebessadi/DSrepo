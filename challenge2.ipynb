{
  "cells": [
    {
      "cell_type": "markdown",
      "source": [
        "<h3>Debut de challenge 2 ,apres la derniere matrix de Correlation</h3>"
      ],
      "metadata": {
        "id": "otbQeA76bO_Z"
      },
      "id": "otbQeA76bO_Z"
    },
    {
      "cell_type": "code",
      "execution_count": 1,
      "id": "b987025b-f614-47ab-8c4a-926489cbbe0c",
      "metadata": {
        "id": "b987025b-f614-47ab-8c4a-926489cbbe0c"
      },
      "outputs": [],
      "source": [
        "import pandas as pd\n",
        "import numpy as np\n",
        "import seaborn as sns\n",
        "import matplotlib.pyplot as plt\n",
        "#models libraries\n",
        "from sklearn.model_selection import train_test_split\n",
        "from sklearn.preprocessing import StandardScaler\n",
        "from sklearn.linear_model import LinearRegression\n",
        "from sklearn.metrics import mean_squared_error, r2_score\n",
        "\n",
        "\n"
      ]
    },
    {
      "cell_type": "code",
      "execution_count": 2,
      "id": "d67183c0-1abd-4fca-898c-080e1fad267f",
      "metadata": {
        "id": "d67183c0-1abd-4fca-898c-080e1fad267f"
      },
      "outputs": [],
      "source": [
        "df=pd.read_csv(\"data.csv\")"
      ]
    },
    {
      "cell_type": "code",
      "execution_count": null,
      "id": "4650fe4d-98be-4844-9e32-b18b64173bb4",
      "metadata": {
        "colab": {
          "base_uri": "https://localhost:8080/",
          "height": 300
        },
        "id": "4650fe4d-98be-4844-9e32-b18b64173bb4",
        "outputId": "c10ab69d-9ffb-4fc0-f50f-a437fc1c0574"
      },
      "outputs": [
        {
          "output_type": "execute_result",
          "data": {
            "text/plain": [
              "            Weight     Length1      Height       Width\n",
              "count   159.000000  159.000000  159.000000  159.000000\n",
              "mean    398.326415   26.247170    8.970994    4.417486\n",
              "std     357.978317    9.996441    4.286208    1.685804\n",
              "min       0.000000    7.500000    1.728400    1.047600\n",
              "25%     120.000000   19.050000    5.944800    3.385650\n",
              "50%     273.000000   25.200000    7.786000    4.248500\n",
              "75%     650.000000   32.700000   12.365900    5.584500\n",
              "max    1650.000000   59.000000   18.957000    8.142000"
            ],
            "text/html": [
              "\n",
              "  <div id=\"df-ea7b02e0-a6bc-480d-b7a2-67e94a8764cf\" class=\"colab-df-container\">\n",
              "    <div>\n",
              "<style scoped>\n",
              "    .dataframe tbody tr th:only-of-type {\n",
              "        vertical-align: middle;\n",
              "    }\n",
              "\n",
              "    .dataframe tbody tr th {\n",
              "        vertical-align: top;\n",
              "    }\n",
              "\n",
              "    .dataframe thead th {\n",
              "        text-align: right;\n",
              "    }\n",
              "</style>\n",
              "<table border=\"1\" class=\"dataframe\">\n",
              "  <thead>\n",
              "    <tr style=\"text-align: right;\">\n",
              "      <th></th>\n",
              "      <th>Weight</th>\n",
              "      <th>Length1</th>\n",
              "      <th>Height</th>\n",
              "      <th>Width</th>\n",
              "    </tr>\n",
              "  </thead>\n",
              "  <tbody>\n",
              "    <tr>\n",
              "      <th>count</th>\n",
              "      <td>159.000000</td>\n",
              "      <td>159.000000</td>\n",
              "      <td>159.000000</td>\n",
              "      <td>159.000000</td>\n",
              "    </tr>\n",
              "    <tr>\n",
              "      <th>mean</th>\n",
              "      <td>398.326415</td>\n",
              "      <td>26.247170</td>\n",
              "      <td>8.970994</td>\n",
              "      <td>4.417486</td>\n",
              "    </tr>\n",
              "    <tr>\n",
              "      <th>std</th>\n",
              "      <td>357.978317</td>\n",
              "      <td>9.996441</td>\n",
              "      <td>4.286208</td>\n",
              "      <td>1.685804</td>\n",
              "    </tr>\n",
              "    <tr>\n",
              "      <th>min</th>\n",
              "      <td>0.000000</td>\n",
              "      <td>7.500000</td>\n",
              "      <td>1.728400</td>\n",
              "      <td>1.047600</td>\n",
              "    </tr>\n",
              "    <tr>\n",
              "      <th>25%</th>\n",
              "      <td>120.000000</td>\n",
              "      <td>19.050000</td>\n",
              "      <td>5.944800</td>\n",
              "      <td>3.385650</td>\n",
              "    </tr>\n",
              "    <tr>\n",
              "      <th>50%</th>\n",
              "      <td>273.000000</td>\n",
              "      <td>25.200000</td>\n",
              "      <td>7.786000</td>\n",
              "      <td>4.248500</td>\n",
              "    </tr>\n",
              "    <tr>\n",
              "      <th>75%</th>\n",
              "      <td>650.000000</td>\n",
              "      <td>32.700000</td>\n",
              "      <td>12.365900</td>\n",
              "      <td>5.584500</td>\n",
              "    </tr>\n",
              "    <tr>\n",
              "      <th>max</th>\n",
              "      <td>1650.000000</td>\n",
              "      <td>59.000000</td>\n",
              "      <td>18.957000</td>\n",
              "      <td>8.142000</td>\n",
              "    </tr>\n",
              "  </tbody>\n",
              "</table>\n",
              "</div>\n",
              "    <div class=\"colab-df-buttons\">\n",
              "\n",
              "  <div class=\"colab-df-container\">\n",
              "    <button class=\"colab-df-convert\" onclick=\"convertToInteractive('df-ea7b02e0-a6bc-480d-b7a2-67e94a8764cf')\"\n",
              "            title=\"Convert this dataframe to an interactive table.\"\n",
              "            style=\"display:none;\">\n",
              "\n",
              "  <svg xmlns=\"http://www.w3.org/2000/svg\" height=\"24px\" viewBox=\"0 -960 960 960\">\n",
              "    <path d=\"M120-120v-720h720v720H120Zm60-500h600v-160H180v160Zm220 220h160v-160H400v160Zm0 220h160v-160H400v160ZM180-400h160v-160H180v160Zm440 0h160v-160H620v160ZM180-180h160v-160H180v160Zm440 0h160v-160H620v160Z\"/>\n",
              "  </svg>\n",
              "    </button>\n",
              "\n",
              "  <style>\n",
              "    .colab-df-container {\n",
              "      display:flex;\n",
              "      gap: 12px;\n",
              "    }\n",
              "\n",
              "    .colab-df-convert {\n",
              "      background-color: #E8F0FE;\n",
              "      border: none;\n",
              "      border-radius: 50%;\n",
              "      cursor: pointer;\n",
              "      display: none;\n",
              "      fill: #1967D2;\n",
              "      height: 32px;\n",
              "      padding: 0 0 0 0;\n",
              "      width: 32px;\n",
              "    }\n",
              "\n",
              "    .colab-df-convert:hover {\n",
              "      background-color: #E2EBFA;\n",
              "      box-shadow: 0px 1px 2px rgba(60, 64, 67, 0.3), 0px 1px 3px 1px rgba(60, 64, 67, 0.15);\n",
              "      fill: #174EA6;\n",
              "    }\n",
              "\n",
              "    .colab-df-buttons div {\n",
              "      margin-bottom: 4px;\n",
              "    }\n",
              "\n",
              "    [theme=dark] .colab-df-convert {\n",
              "      background-color: #3B4455;\n",
              "      fill: #D2E3FC;\n",
              "    }\n",
              "\n",
              "    [theme=dark] .colab-df-convert:hover {\n",
              "      background-color: #434B5C;\n",
              "      box-shadow: 0px 1px 3px 1px rgba(0, 0, 0, 0.15);\n",
              "      filter: drop-shadow(0px 1px 2px rgba(0, 0, 0, 0.3));\n",
              "      fill: #FFFFFF;\n",
              "    }\n",
              "  </style>\n",
              "\n",
              "    <script>\n",
              "      const buttonEl =\n",
              "        document.querySelector('#df-ea7b02e0-a6bc-480d-b7a2-67e94a8764cf button.colab-df-convert');\n",
              "      buttonEl.style.display =\n",
              "        google.colab.kernel.accessAllowed ? 'block' : 'none';\n",
              "\n",
              "      async function convertToInteractive(key) {\n",
              "        const element = document.querySelector('#df-ea7b02e0-a6bc-480d-b7a2-67e94a8764cf');\n",
              "        const dataTable =\n",
              "          await google.colab.kernel.invokeFunction('convertToInteractive',\n",
              "                                                    [key], {});\n",
              "        if (!dataTable) return;\n",
              "\n",
              "        const docLinkHtml = 'Like what you see? Visit the ' +\n",
              "          '<a target=\"_blank\" href=https://colab.research.google.com/notebooks/data_table.ipynb>data table notebook</a>'\n",
              "          + ' to learn more about interactive tables.';\n",
              "        element.innerHTML = '';\n",
              "        dataTable['output_type'] = 'display_data';\n",
              "        await google.colab.output.renderOutput(dataTable, element);\n",
              "        const docLink = document.createElement('div');\n",
              "        docLink.innerHTML = docLinkHtml;\n",
              "        element.appendChild(docLink);\n",
              "      }\n",
              "    </script>\n",
              "  </div>\n",
              "\n",
              "\n",
              "<div id=\"df-bbd6071a-e86c-4d9c-b13f-0526b76a5aa8\">\n",
              "  <button class=\"colab-df-quickchart\" onclick=\"quickchart('df-bbd6071a-e86c-4d9c-b13f-0526b76a5aa8')\"\n",
              "            title=\"Suggest charts\"\n",
              "            style=\"display:none;\">\n",
              "\n",
              "<svg xmlns=\"http://www.w3.org/2000/svg\" height=\"24px\"viewBox=\"0 0 24 24\"\n",
              "     width=\"24px\">\n",
              "    <g>\n",
              "        <path d=\"M19 3H5c-1.1 0-2 .9-2 2v14c0 1.1.9 2 2 2h14c1.1 0 2-.9 2-2V5c0-1.1-.9-2-2-2zM9 17H7v-7h2v7zm4 0h-2V7h2v10zm4 0h-2v-4h2v4z\"/>\n",
              "    </g>\n",
              "</svg>\n",
              "  </button>\n",
              "\n",
              "<style>\n",
              "  .colab-df-quickchart {\n",
              "      --bg-color: #E8F0FE;\n",
              "      --fill-color: #1967D2;\n",
              "      --hover-bg-color: #E2EBFA;\n",
              "      --hover-fill-color: #174EA6;\n",
              "      --disabled-fill-color: #AAA;\n",
              "      --disabled-bg-color: #DDD;\n",
              "  }\n",
              "\n",
              "  [theme=dark] .colab-df-quickchart {\n",
              "      --bg-color: #3B4455;\n",
              "      --fill-color: #D2E3FC;\n",
              "      --hover-bg-color: #434B5C;\n",
              "      --hover-fill-color: #FFFFFF;\n",
              "      --disabled-bg-color: #3B4455;\n",
              "      --disabled-fill-color: #666;\n",
              "  }\n",
              "\n",
              "  .colab-df-quickchart {\n",
              "    background-color: var(--bg-color);\n",
              "    border: none;\n",
              "    border-radius: 50%;\n",
              "    cursor: pointer;\n",
              "    display: none;\n",
              "    fill: var(--fill-color);\n",
              "    height: 32px;\n",
              "    padding: 0;\n",
              "    width: 32px;\n",
              "  }\n",
              "\n",
              "  .colab-df-quickchart:hover {\n",
              "    background-color: var(--hover-bg-color);\n",
              "    box-shadow: 0 1px 2px rgba(60, 64, 67, 0.3), 0 1px 3px 1px rgba(60, 64, 67, 0.15);\n",
              "    fill: var(--button-hover-fill-color);\n",
              "  }\n",
              "\n",
              "  .colab-df-quickchart-complete:disabled,\n",
              "  .colab-df-quickchart-complete:disabled:hover {\n",
              "    background-color: var(--disabled-bg-color);\n",
              "    fill: var(--disabled-fill-color);\n",
              "    box-shadow: none;\n",
              "  }\n",
              "\n",
              "  .colab-df-spinner {\n",
              "    border: 2px solid var(--fill-color);\n",
              "    border-color: transparent;\n",
              "    border-bottom-color: var(--fill-color);\n",
              "    animation:\n",
              "      spin 1s steps(1) infinite;\n",
              "  }\n",
              "\n",
              "  @keyframes spin {\n",
              "    0% {\n",
              "      border-color: transparent;\n",
              "      border-bottom-color: var(--fill-color);\n",
              "      border-left-color: var(--fill-color);\n",
              "    }\n",
              "    20% {\n",
              "      border-color: transparent;\n",
              "      border-left-color: var(--fill-color);\n",
              "      border-top-color: var(--fill-color);\n",
              "    }\n",
              "    30% {\n",
              "      border-color: transparent;\n",
              "      border-left-color: var(--fill-color);\n",
              "      border-top-color: var(--fill-color);\n",
              "      border-right-color: var(--fill-color);\n",
              "    }\n",
              "    40% {\n",
              "      border-color: transparent;\n",
              "      border-right-color: var(--fill-color);\n",
              "      border-top-color: var(--fill-color);\n",
              "    }\n",
              "    60% {\n",
              "      border-color: transparent;\n",
              "      border-right-color: var(--fill-color);\n",
              "    }\n",
              "    80% {\n",
              "      border-color: transparent;\n",
              "      border-right-color: var(--fill-color);\n",
              "      border-bottom-color: var(--fill-color);\n",
              "    }\n",
              "    90% {\n",
              "      border-color: transparent;\n",
              "      border-bottom-color: var(--fill-color);\n",
              "    }\n",
              "  }\n",
              "</style>\n",
              "\n",
              "  <script>\n",
              "    async function quickchart(key) {\n",
              "      const quickchartButtonEl =\n",
              "        document.querySelector('#' + key + ' button');\n",
              "      quickchartButtonEl.disabled = true;  // To prevent multiple clicks.\n",
              "      quickchartButtonEl.classList.add('colab-df-spinner');\n",
              "      try {\n",
              "        const charts = await google.colab.kernel.invokeFunction(\n",
              "            'suggestCharts', [key], {});\n",
              "      } catch (error) {\n",
              "        console.error('Error during call to suggestCharts:', error);\n",
              "      }\n",
              "      quickchartButtonEl.classList.remove('colab-df-spinner');\n",
              "      quickchartButtonEl.classList.add('colab-df-quickchart-complete');\n",
              "    }\n",
              "    (() => {\n",
              "      let quickchartButtonEl =\n",
              "        document.querySelector('#df-bbd6071a-e86c-4d9c-b13f-0526b76a5aa8 button');\n",
              "      quickchartButtonEl.style.display =\n",
              "        google.colab.kernel.accessAllowed ? 'block' : 'none';\n",
              "    })();\n",
              "  </script>\n",
              "</div>\n",
              "\n",
              "    </div>\n",
              "  </div>\n"
            ],
            "application/vnd.google.colaboratory.intrinsic+json": {
              "type": "dataframe",
              "summary": "{\n  \"name\": \"#df\",\n  \"rows\": 8,\n  \"fields\": [\n    {\n      \"column\": \"Weight\",\n      \"properties\": {\n        \"dtype\": \"number\",\n        \"std\": 523.52371054653,\n        \"min\": 0.0,\n        \"max\": 1650.0,\n        \"num_unique_values\": 8,\n        \"samples\": [\n          398.3264150943396,\n          273.0,\n          159.0\n        ],\n        \"semantic_type\": \"\",\n        \"description\": \"\"\n      }\n    },\n    {\n      \"column\": \"Length1\",\n      \"properties\": {\n        \"dtype\": \"number\",\n        \"std\": 49.76394993452417,\n        \"min\": 7.5,\n        \"max\": 159.0,\n        \"num_unique_values\": 8,\n        \"samples\": [\n          26.247169811320756,\n          25.2,\n          159.0\n        ],\n        \"semantic_type\": \"\",\n        \"description\": \"\"\n      }\n    },\n    {\n      \"column\": \"Height\",\n      \"properties\": {\n        \"dtype\": \"number\",\n        \"std\": 53.44397133500888,\n        \"min\": 1.7284,\n        \"max\": 159.0,\n        \"num_unique_values\": 8,\n        \"samples\": [\n          8.970993710691824,\n          7.786,\n          159.0\n        ],\n        \"semantic_type\": \"\",\n        \"description\": \"\"\n      }\n    },\n    {\n      \"column\": \"Width\",\n      \"properties\": {\n        \"dtype\": \"number\",\n        \"std\": 54.81966876572199,\n        \"min\": 1.0476,\n        \"max\": 159.0,\n        \"num_unique_values\": 8,\n        \"samples\": [\n          4.417485534591195,\n          4.2485,\n          159.0\n        ],\n        \"semantic_type\": \"\",\n        \"description\": \"\"\n      }\n    }\n  ]\n}"
            }
          },
          "metadata": {},
          "execution_count": 26
        }
      ],
      "source": [
        "#df.head()\n",
        "df.describe()\n",
        "#df.info()\n",
        "#df.columns"
      ]
    },
    {
      "cell_type": "code",
      "execution_count": null,
      "id": "6d2332fd-c0e9-4d4c-a21a-2438016dd2dc",
      "metadata": {
        "id": "6d2332fd-c0e9-4d4c-a21a-2438016dd2dc"
      },
      "outputs": [],
      "source": [
        "#df.isnull().sum()\n"
      ]
    },
    {
      "cell_type": "code",
      "execution_count": null,
      "id": "a2158d4a-2afb-41e4-983e-0988824ca4f4",
      "metadata": {
        "id": "a2158d4a-2afb-41e4-983e-0988824ca4f4"
      },
      "outputs": [],
      "source": [
        "species_names=df[\"Species\"].unique()\n",
        "#species_names\n",
        "#df[\"Species\"]"
      ]
    },
    {
      "cell_type": "code",
      "execution_count": null,
      "id": "7cdc52ab-f218-4099-96cd-f7ccd1262d90",
      "metadata": {
        "id": "7cdc52ab-f218-4099-96cd-f7ccd1262d90",
        "outputId": "84303604-fe5a-4674-8fa5-0ca69f5dca2b"
      },
      "outputs": [
        {
          "data": {
            "text/plain": [
              "Species    0\n",
              "Weight     1\n",
              "Length1    0\n",
              "Length2    0\n",
              "Length3    0\n",
              "Height     0\n",
              "Width      0\n",
              "dtype: int64"
            ]
          },
          "execution_count": 10,
          "metadata": {},
          "output_type": "execute_result"
        }
      ],
      "source": [
        "(df == 0).sum()\n"
      ]
    },
    {
      "cell_type": "code",
      "execution_count": null,
      "id": "97e04f64-4cb8-4f50-985e-4e431baa6561",
      "metadata": {
        "id": "97e04f64-4cb8-4f50-985e-4e431baa6561",
        "outputId": "ee49ab02-b262-4564-df5e-352978004bb2"
      },
      "outputs": [
        {
          "data": {
            "text/plain": [
              "Species\n",
              "Bream        0\n",
              "Roach        1\n",
              "Whitefish    0\n",
              "Parkki       0\n",
              "Perch        0\n",
              "Pike         0\n",
              "Smelt        0\n",
              "dtype: int64"
            ]
          },
          "execution_count": 11,
          "metadata": {},
          "output_type": "execute_result"
        }
      ],
      "source": [
        "df[df['Weight'] == 0].groupby('Species').size().reindex(df['Species'].unique(), fill_value=0)\n"
      ]
    },
    {
      "cell_type": "code",
      "execution_count": null,
      "id": "cf150960-3552-4a94-b706-a1426994f8b1",
      "metadata": {
        "id": "cf150960-3552-4a94-b706-a1426994f8b1"
      },
      "outputs": [],
      "source": [
        "roach_mean_weight = df[df['Species'] == 'Roach']['Weight'].mean()\n",
        "df.loc[(df['Species'] == 'Roach') & (df['Weight'] == 0), 'Weight'] = roach_mean_weight\n"
      ]
    },
    {
      "cell_type": "code",
      "execution_count": null,
      "id": "00e6c18f-527b-4caa-b9aa-bd35f0137f49",
      "metadata": {
        "id": "00e6c18f-527b-4caa-b9aa-bd35f0137f49"
      },
      "outputs": [],
      "source": [
        "#df[df['Weight'] == 0].groupby('Species').size()\n"
      ]
    },
    {
      "cell_type": "code",
      "execution_count": null,
      "id": "0dee225e-b98c-40b3-8301-404a9997c348",
      "metadata": {
        "id": "0dee225e-b98c-40b3-8301-404a9997c348"
      },
      "outputs": [],
      "source": [
        "#(df == 0).sum()\n"
      ]
    },
    {
      "cell_type": "markdown",
      "id": "e35381a7-8235-4b5d-afb0-ca261f7e6abe",
      "metadata": {
        "id": "e35381a7-8235-4b5d-afb0-ca261f7e6abe"
      },
      "source": [
        "<h4>pas d'autre zeros ! comme le roach a un zero dans le Weight ce qui n'est pas logique alors i replaced it with the mean of the Weight of the roach</h4>"
      ]
    },
    {
      "cell_type": "code",
      "execution_count": null,
      "id": "ed407ce0-c65a-4d43-aa73-357f1a7cb0c9",
      "metadata": {
        "id": "ed407ce0-c65a-4d43-aa73-357f1a7cb0c9"
      },
      "outputs": [],
      "source": [
        "#df.groupby('Species')['Weight'].mean()"
      ]
    },
    {
      "cell_type": "code",
      "execution_count": null,
      "id": "6c724b62-63b7-4662-b1ca-8e8df1342729",
      "metadata": {
        "id": "6c724b62-63b7-4662-b1ca-8e8df1342729",
        "outputId": "ef78aab0-c889-4a6d-ac48-f1e9a5892c6d"
      },
      "outputs": [
        {
          "data": {
            "text/html": [
              "<div>\n",
              "<style scoped>\n",
              "    .dataframe tbody tr th:only-of-type {\n",
              "        vertical-align: middle;\n",
              "    }\n",
              "\n",
              "    .dataframe tbody tr th {\n",
              "        vertical-align: top;\n",
              "    }\n",
              "\n",
              "    .dataframe thead th {\n",
              "        text-align: right;\n",
              "    }\n",
              "</style>\n",
              "<table border=\"1\" class=\"dataframe\">\n",
              "  <thead>\n",
              "    <tr style=\"text-align: right;\">\n",
              "      <th></th>\n",
              "      <th>Weight</th>\n",
              "      <th>Length1</th>\n",
              "      <th>Length2</th>\n",
              "      <th>Length3</th>\n",
              "      <th>Height</th>\n",
              "      <th>Width</th>\n",
              "    </tr>\n",
              "  </thead>\n",
              "  <tbody>\n",
              "    <tr>\n",
              "      <th>Weight</th>\n",
              "      <td>1.000000</td>\n",
              "      <td>0.915986</td>\n",
              "      <td>0.918862</td>\n",
              "      <td>0.923333</td>\n",
              "      <td>0.724538</td>\n",
              "      <td>0.886959</td>\n",
              "    </tr>\n",
              "    <tr>\n",
              "      <th>Length1</th>\n",
              "      <td>0.915986</td>\n",
              "      <td>1.000000</td>\n",
              "      <td>0.999517</td>\n",
              "      <td>0.992031</td>\n",
              "      <td>0.625378</td>\n",
              "      <td>0.867050</td>\n",
              "    </tr>\n",
              "    <tr>\n",
              "      <th>Length2</th>\n",
              "      <td>0.918862</td>\n",
              "      <td>0.999517</td>\n",
              "      <td>1.000000</td>\n",
              "      <td>0.994103</td>\n",
              "      <td>0.640441</td>\n",
              "      <td>0.873547</td>\n",
              "    </tr>\n",
              "    <tr>\n",
              "      <th>Length3</th>\n",
              "      <td>0.923333</td>\n",
              "      <td>0.992031</td>\n",
              "      <td>0.994103</td>\n",
              "      <td>1.000000</td>\n",
              "      <td>0.703409</td>\n",
              "      <td>0.878520</td>\n",
              "    </tr>\n",
              "    <tr>\n",
              "      <th>Height</th>\n",
              "      <td>0.724538</td>\n",
              "      <td>0.625378</td>\n",
              "      <td>0.640441</td>\n",
              "      <td>0.703409</td>\n",
              "      <td>1.000000</td>\n",
              "      <td>0.792881</td>\n",
              "    </tr>\n",
              "    <tr>\n",
              "      <th>Width</th>\n",
              "      <td>0.886959</td>\n",
              "      <td>0.867050</td>\n",
              "      <td>0.873547</td>\n",
              "      <td>0.878520</td>\n",
              "      <td>0.792881</td>\n",
              "      <td>1.000000</td>\n",
              "    </tr>\n",
              "  </tbody>\n",
              "</table>\n",
              "</div>"
            ],
            "text/plain": [
              "           Weight   Length1   Length2   Length3    Height     Width\n",
              "Weight   1.000000  0.915986  0.918862  0.923333  0.724538  0.886959\n",
              "Length1  0.915986  1.000000  0.999517  0.992031  0.625378  0.867050\n",
              "Length2  0.918862  0.999517  1.000000  0.994103  0.640441  0.873547\n",
              "Length3  0.923333  0.992031  0.994103  1.000000  0.703409  0.878520\n",
              "Height   0.724538  0.625378  0.640441  0.703409  1.000000  0.792881\n",
              "Width    0.886959  0.867050  0.873547  0.878520  0.792881  1.000000"
            ]
          },
          "execution_count": 16,
          "metadata": {},
          "output_type": "execute_result"
        }
      ],
      "source": [
        "df.select_dtypes(include='number').corr()"
      ]
    },
    {
      "cell_type": "markdown",
      "id": "82b8d449-434c-4712-b8ff-f11cb422c395",
      "metadata": {
        "id": "82b8d449-434c-4712-b8ff-f11cb422c395"
      },
      "source": [
        "<h5>\n",
        "il y a une forte correlation entre le weight et le lenght3 (0.92), which can mean the fishes who are more heavy are most likely taller.\n",
        "also the featues lenght2 et lenght3 sont tres correles entre eux almost =1 , so we can say that they give the same results !, so i consider dropping two and leave only one feature out of (Length1\tLength2\tLength3\t).\n",
        "\n",
        "    \n",
        "</h5>"
      ]
    },
    {
      "cell_type": "code",
      "execution_count": null,
      "id": "a6634d6c-5ad0-4ea7-89a3-56ef22eab003",
      "metadata": {
        "id": "a6634d6c-5ad0-4ea7-89a3-56ef22eab003",
        "outputId": "242730e4-c843-4558-854a-c3873b715056"
      },
      "outputs": [
        {
          "data": {
            "text/plain": [
              "<Axes: xlabel='Species', ylabel='Weight'>"
            ]
          },
          "execution_count": 32,
          "metadata": {},
          "output_type": "execute_result"
        },
        {
          "data": {
            "image/png": "[encoded data removed]",
            "text/plain": [
              "<Figure size 640x480 with 1 Axes>"
            ]
          },
          "metadata": {},
          "output_type": "display_data"
        }
      ],
      "source": [
        "sns.boxplot(x='Species', y='Weight', data=df,color='skyblue')"
      ]
    },
    {
      "cell_type": "markdown",
      "id": "f17f0d7c-672b-439e-8dc1-455492ec9641",
      "metadata": {
        "id": "f17f0d7c-672b-439e-8dc1-455492ec9641"
      },
      "source": [
        "<h4>Du boxplot on peut voir la distrubution du feature weight par species , ce qui aide a comparer le weight selon species</h4>"
      ]
    },
    {
      "cell_type": "code",
      "execution_count": null,
      "id": "e74849f8-cb62-4e69-b202-644ca81ff05d",
      "metadata": {
        "id": "e74849f8-cb62-4e69-b202-644ca81ff05d",
        "outputId": "577f2e03-9364-4bbf-f0c0-ff4ef1dfbb03"
      },
      "outputs": [
        {
          "data": {
            "text/plain": [
              "<Axes: xlabel='Species', ylabel='count'>"
            ]
          },
          "execution_count": 34,
          "metadata": {},
          "output_type": "execute_result"
        },
        {
          "data": {
            "image/png": "[encoded data removed]",
            "text/plain": [
              "<Figure size 640x480 with 1 Axes>"
            ]
          },
          "metadata": {},
          "output_type": "display_data"
        }
      ],
      "source": [
        "sns.countplot(x='Species', data=df,color='skyblue')"
      ]
    },
    {
      "cell_type": "code",
      "execution_count": null,
      "id": "940cec39-638b-4713-abd2-3042112fd606",
      "metadata": {
        "id": "940cec39-638b-4713-abd2-3042112fd606",
        "outputId": "8888356d-efff-44ea-960b-c32dfbea95cf"
      },
      "outputs": [
        {
          "data": {
            "image/png": "[encoded data removed]",
            "text/plain": [
              "<Figure size 1000x400 with 2 Axes>"
            ]
          },
          "metadata": {},
          "output_type": "display_data"
        }
      ],
      "source": [
        "df[['Weight', 'Height']].hist(bins=20, figsize=(10, 4), color='skyblue', edgecolor='black')\n",
        "plt.suptitle(\"Distributions de Weight et Height\", y=1.05)\n",
        "plt.xlabel(\"Value\")\n",
        "plt.ylabel(\"Frequency\")\n",
        "plt.tight_layout()\n",
        "plt.show()"
      ]
    },
    {
      "cell_type": "markdown",
      "id": "8f9e6b9c-b6ed-45e5-8164-c660ff38521b",
      "metadata": {
        "id": "8f9e6b9c-b6ed-45e5-8164-c660ff38521b"
      },
      "source": [
        "<h4>from this scatter plot we see the correlation between the weight and the lenght3</h4>"
      ]
    },
    {
      "cell_type": "code",
      "execution_count": null,
      "id": "cd3543c6-fefb-450d-98ba-9e0fcb2c3aaa",
      "metadata": {
        "id": "cd3543c6-fefb-450d-98ba-9e0fcb2c3aaa",
        "outputId": "619ce75d-26a4-4285-d781-250c13b96356"
      },
      "outputs": [
        {
          "data": {
            "image/png": "[encoded data removed]",
            "text/plain": [
              "<Figure size 640x480 with 1 Axes>"
            ]
          },
          "metadata": {},
          "output_type": "display_data"
        }
      ],
      "source": [
        "sns.scatterplot(data=df, x='Length3', y='Weight', hue='Species', palette='viridis', s=70)\n",
        "plt.title(\"Weight vs. Length3 par Species\", fontsize=14)\n",
        "plt.xlabel(\"Length3 (cm)\", fontsize=12)\n",
        "plt.ylabel(\"Weight (grams)\", fontsize=12)\n",
        "plt.legend(bbox_to_anchor=(1.05, 1), loc='upper left')\n",
        "plt.show()"
      ]
    },
    {
      "cell_type": "markdown",
      "id": "03377a35-a4e9-44de-8356-d688a0d8b0ff",
      "metadata": {
        "id": "03377a35-a4e9-44de-8356-d688a0d8b0ff"
      },
      "source": [
        "<h4>Correlation entre Length1,Length2 et Length3 ce qui montre que they almost give the same information</h4>"
      ]
    },
    {
      "cell_type": "code",
      "execution_count": null,
      "id": "3240c505-d53a-4951-a7b2-24c5eb360bcd",
      "metadata": {
        "id": "3240c505-d53a-4951-a7b2-24c5eb360bcd",
        "outputId": "d61a3503-acf8-4a9e-c7e8-bf2497b4fe60"
      },
      "outputs": [
        {
          "data": {
            "image/png": "[encoded data removed]",
            "text/plain": [
              "<Figure size 640x480 with 2 Axes>"
            ]
          },
          "metadata": {},
          "output_type": "display_data"
        }
      ],
      "source": [
        "sns.heatmap(df[['Length1', 'Length2', 'Length3']].corr(), annot=True, cmap='coolwarm')\n",
        "plt.title(\"Correlation entre Lengths\")\n",
        "plt.show()\n"
      ]
    },
    {
      "cell_type": "code",
      "execution_count": null,
      "id": "17ec62d1-4ace-4d70-8e82-2932712c8ee3",
      "metadata": {
        "id": "17ec62d1-4ace-4d70-8e82-2932712c8ee3",
        "outputId": "fbbc85ea-c041-4d9a-94f5-f0dc2923b81f"
      },
      "outputs": [
        {
          "data": {
            "image/png": "[encoded data removed]",
            "text/plain": [
              "<Figure size 800x600 with 2 Axes>"
            ]
          },
          "metadata": {},
          "output_type": "display_data"
        }
      ],
      "source": [
        "# Include all numeric variables for broader insights\n",
        "plt.figure(figsize=(8, 6))\n",
        "sns.heatmap(df.select_dtypes(include='number').corr(), annot=True, cmap='coolwarm', vmin=-1, vmax=1)\n",
        "plt.title(\"Correlation Matrix of Numeric Features\", pad=20)\n",
        "plt.xticks(rotation=45)\n",
        "plt.show()"
      ]
    },
    {
      "cell_type": "markdown",
      "source": [
        "<h3>Challenge Two linear Regression Models , Target = wieght</h3>"
      ],
      "metadata": {
        "id": "T6OjcEk9IusU"
      },
      "id": "T6OjcEk9IusU"
    },
    {
      "cell_type": "code",
      "execution_count": 3,
      "id": "1b3ac0ea-efc8-4c58-8887-1e9460778b0a",
      "metadata": {
        "id": "1b3ac0ea-efc8-4c58-8887-1e9460778b0a"
      },
      "outputs": [],
      "source": [
        "#drop lenght 1 and 2\n",
        "df = df.drop(columns=['Length2', 'Length3'])\n",
        "# Drop the 'Species' column\n",
        "df = df.drop(columns=['Species'])"
      ]
    },
    {
      "cell_type": "code",
      "source": [
        "df.columns"
      ],
      "metadata": {
        "colab": {
          "base_uri": "https://localhost:8080/"
        },
        "id": "78j-AGN7I7XR",
        "outputId": "0e21d18b-65e5-4e8a-cda7-987ead9f23d9"
      },
      "id": "78j-AGN7I7XR",
      "execution_count": null,
      "outputs": [
        {
          "output_type": "execute_result",
          "data": {
            "text/plain": [
              "Index(['Weight', 'Length1', 'Height', 'Width'], dtype='object')"
            ]
          },
          "metadata": {},
          "execution_count": 12
        }
      ]
    },
    {
      "cell_type": "code",
      "source": [
        "X = df.drop(columns=['Weight'])\n",
        "y = df['Weight']\n",
        "X_train, X_test, y_train, y_test = train_test_split(X, y, test_size=0.2, random_state=42)\n"
      ],
      "metadata": {
        "id": "U6vXaapPJc7G"
      },
      "id": "U6vXaapPJc7G",
      "execution_count": 4,
      "outputs": []
    },
    {
      "cell_type": "code",
      "source": [
        "scaler = StandardScaler()\n",
        "X_train = scaler.fit_transform(X_train)\n",
        "X_test = scaler.transform(X_test)"
      ],
      "metadata": {
        "id": "uXPk44PwMmCJ"
      },
      "id": "uXPk44PwMmCJ",
      "execution_count": 5,
      "outputs": []
    },
    {
      "cell_type": "code",
      "source": [
        "#train the model\n",
        "model = LinearRegression()\n",
        "model.fit(X_train, y_train)"
      ],
      "metadata": {
        "colab": {
          "base_uri": "https://localhost:8080/",
          "height": 80
        },
        "id": "XljeZ1b1MuXU",
        "outputId": "22c2a5c7-7215-4657-9cad-53b1c4018288"
      },
      "id": "XljeZ1b1MuXU",
      "execution_count": 6,
      "outputs": [
        {
          "output_type": "execute_result",
          "data": {
            "text/plain": [
              "LinearRegression()"
            ],
            "text/html": [
              "<style>#sk-container-id-1 {\n",
              "  /* Definition of color scheme common for light and dark mode */\n",
              "  --sklearn-color-text: #000;\n",
              "  --sklearn-color-text-muted: #666;\n",
              "  --sklearn-color-line: gray;\n",
              "  /* Definition of color scheme for unfitted estimators */\n",
              "  --sklearn-color-unfitted-level-0: #fff5e6;\n",
              "  --sklearn-color-unfitted-level-1: #f6e4d2;\n",
              "  --sklearn-color-unfitted-level-2: #ffe0b3;\n",
              "  --sklearn-color-unfitted-level-3: chocolate;\n",
              "  /* Definition of color scheme for fitted estimators */\n",
              "  --sklearn-color-fitted-level-0: #f0f8ff;\n",
              "  --sklearn-color-fitted-level-1: #d4ebff;\n",
              "  --sklearn-color-fitted-level-2: #b3dbfd;\n",
              "  --sklearn-color-fitted-level-3: cornflowerblue;\n",
              "\n",
              "  /* Specific color for light theme */\n",
              "  --sklearn-color-text-on-default-background: var(--sg-text-color, var(--theme-code-foreground, var(--jp-content-font-color1, black)));\n",
              "  --sklearn-color-background: var(--sg-background-color, var(--theme-background, var(--jp-layout-color0, white)));\n",
              "  --sklearn-color-border-box: var(--sg-text-color, var(--theme-code-foreground, var(--jp-content-font-color1, black)));\n",
              "  --sklearn-color-icon: #696969;\n",
              "\n",
              "  @media (prefers-color-scheme: dark) {\n",
              "    /* Redefinition of color scheme for dark theme */\n",
              "    --sklearn-color-text-on-default-background: var(--sg-text-color, var(--theme-code-foreground, var(--jp-content-font-color1, white)));\n",
              "    --sklearn-color-background: var(--sg-background-color, var(--theme-background, var(--jp-layout-color0, #111)));\n",
              "    --sklearn-color-border-box: var(--sg-text-color, var(--theme-code-foreground, var(--jp-content-font-color1, white)));\n",
              "    --sklearn-color-icon: #878787;\n",
              "  }\n",
              "}\n",
              "\n",
              "#sk-container-id-1 {\n",
              "  color: var(--sklearn-color-text);\n",
              "}\n",
              "\n",
              "#sk-container-id-1 pre {\n",
              "  padding: 0;\n",
              "}\n",
              "\n",
              "#sk-container-id-1 input.sk-hidden--visually {\n",
              "  border: 0;\n",
              "  clip: rect(1px 1px 1px 1px);\n",
              "  clip: rect(1px, 1px, 1px, 1px);\n",
              "  height: 1px;\n",
              "  margin: -1px;\n",
              "  overflow: hidden;\n",
              "  padding: 0;\n",
              "  position: absolute;\n",
              "  width: 1px;\n",
              "}\n",
              "\n",
              "#sk-container-id-1 div.sk-dashed-wrapped {\n",
              "  border: 1px dashed var(--sklearn-color-line);\n",
              "  margin: 0 0.4em 0.5em 0.4em;\n",
              "  box-sizing: border-box;\n",
              "  padding-bottom: 0.4em;\n",
              "  background-color: var(--sklearn-color-background);\n",
              "}\n",
              "\n",
              "#sk-container-id-1 div.sk-container {\n",
              "  /* jupyter's `normalize.less` sets `[hidden] { display: none; }`\n",
              "     but bootstrap.min.css set `[hidden] { display: none !important; }`\n",
              "     so we also need the `!important` here to be able to override the\n",
              "     default hidden behavior on the sphinx rendered scikit-learn.org.\n",
              "     See: https://github.com/scikit-learn/scikit-learn/issues/21755 */\n",
              "  display: inline-block !important;\n",
              "  position: relative;\n",
              "}\n",
              "\n",
              "#sk-container-id-1 div.sk-text-repr-fallback {\n",
              "  display: none;\n",
              "}\n",
              "\n",
              "div.sk-parallel-item,\n",
              "div.sk-serial,\n",
              "div.sk-item {\n",
              "  /* draw centered vertical line to link estimators */\n",
              "  background-image: linear-gradient(var(--sklearn-color-text-on-default-background), var(--sklearn-color-text-on-default-background));\n",
              "  background-size: 2px 100%;\n",
              "  background-repeat: no-repeat;\n",
              "  background-position: center center;\n",
              "}\n",
              "\n",
              "/* Parallel-specific style estimator block */\n",
              "\n",
              "#sk-container-id-1 div.sk-parallel-item::after {\n",
              "  content: \"\";\n",
              "  width: 100%;\n",
              "  border-bottom: 2px solid var(--sklearn-color-text-on-default-background);\n",
              "  flex-grow: 1;\n",
              "}\n",
              "\n",
              "#sk-container-id-1 div.sk-parallel {\n",
              "  display: flex;\n",
              "  align-items: stretch;\n",
              "  justify-content: center;\n",
              "  background-color: var(--sklearn-color-background);\n",
              "  position: relative;\n",
              "}\n",
              "\n",
              "#sk-container-id-1 div.sk-parallel-item {\n",
              "  display: flex;\n",
              "  flex-direction: column;\n",
              "}\n",
              "\n",
              "#sk-container-id-1 div.sk-parallel-item:first-child::after {\n",
              "  align-self: flex-end;\n",
              "  width: 50%;\n",
              "}\n",
              "\n",
              "#sk-container-id-1 div.sk-parallel-item:last-child::after {\n",
              "  align-self: flex-start;\n",
              "  width: 50%;\n",
              "}\n",
              "\n",
              "#sk-container-id-1 div.sk-parallel-item:only-child::after {\n",
              "  width: 0;\n",
              "}\n",
              "\n",
              "/* Serial-specific style estimator block */\n",
              "\n",
              "#sk-container-id-1 div.sk-serial {\n",
              "  display: flex;\n",
              "  flex-direction: column;\n",
              "  align-items: center;\n",
              "  background-color: var(--sklearn-color-background);\n",
              "  padding-right: 1em;\n",
              "  padding-left: 1em;\n",
              "}\n",
              "\n",
              "\n",
              "/* Toggleable style: style used for estimator/Pipeline/ColumnTransformer box that is\n",
              "clickable and can be expanded/collapsed.\n",
              "- Pipeline and ColumnTransformer use this feature and define the default style\n",
              "- Estimators will overwrite some part of the style using the `sk-estimator` class\n",
              "*/\n",
              "\n",
              "/* Pipeline and ColumnTransformer style (default) */\n",
              "\n",
              "#sk-container-id-1 div.sk-toggleable {\n",
              "  /* Default theme specific background. It is overwritten whether we have a\n",
              "  specific estimator or a Pipeline/ColumnTransformer */\n",
              "  background-color: var(--sklearn-color-background);\n",
              "}\n",
              "\n",
              "/* Toggleable label */\n",
              "#sk-container-id-1 label.sk-toggleable__label {\n",
              "  cursor: pointer;\n",
              "  display: flex;\n",
              "  width: 100%;\n",
              "  margin-bottom: 0;\n",
              "  padding: 0.5em;\n",
              "  box-sizing: border-box;\n",
              "  text-align: center;\n",
              "  align-items: start;\n",
              "  justify-content: space-between;\n",
              "  gap: 0.5em;\n",
              "}\n",
              "\n",
              "#sk-container-id-1 label.sk-toggleable__label .caption {\n",
              "  font-size: 0.6rem;\n",
              "  font-weight: lighter;\n",
              "  color: var(--sklearn-color-text-muted);\n",
              "}\n",
              "\n",
              "#sk-container-id-1 label.sk-toggleable__label-arrow:before {\n",
              "  /* Arrow on the left of the label */\n",
              "  content: \"▸\";\n",
              "  float: left;\n",
              "  margin-right: 0.25em;\n",
              "  color: var(--sklearn-color-icon);\n",
              "}\n",
              "\n",
              "#sk-container-id-1 label.sk-toggleable__label-arrow:hover:before {\n",
              "  color: var(--sklearn-color-text);\n",
              "}\n",
              "\n",
              "/* Toggleable content - dropdown */\n",
              "\n",
              "#sk-container-id-1 div.sk-toggleable__content {\n",
              "  max-height: 0;\n",
              "  max-width: 0;\n",
              "  overflow: hidden;\n",
              "  text-align: left;\n",
              "  /* unfitted */\n",
              "  background-color: var(--sklearn-color-unfitted-level-0);\n",
              "}\n",
              "\n",
              "#sk-container-id-1 div.sk-toggleable__content.fitted {\n",
              "  /* fitted */\n",
              "  background-color: var(--sklearn-color-fitted-level-0);\n",
              "}\n",
              "\n",
              "#sk-container-id-1 div.sk-toggleable__content pre {\n",
              "  margin: 0.2em;\n",
              "  border-radius: 0.25em;\n",
              "  color: var(--sklearn-color-text);\n",
              "  /* unfitted */\n",
              "  background-color: var(--sklearn-color-unfitted-level-0);\n",
              "}\n",
              "\n",
              "#sk-container-id-1 div.sk-toggleable__content.fitted pre {\n",
              "  /* unfitted */\n",
              "  background-color: var(--sklearn-color-fitted-level-0);\n",
              "}\n",
              "\n",
              "#sk-container-id-1 input.sk-toggleable__control:checked~div.sk-toggleable__content {\n",
              "  /* Expand drop-down */\n",
              "  max-height: 200px;\n",
              "  max-width: 100%;\n",
              "  overflow: auto;\n",
              "}\n",
              "\n",
              "#sk-container-id-1 input.sk-toggleable__control:checked~label.sk-toggleable__label-arrow:before {\n",
              "  content: \"▾\";\n",
              "}\n",
              "\n",
              "/* Pipeline/ColumnTransformer-specific style */\n",
              "\n",
              "#sk-container-id-1 div.sk-label input.sk-toggleable__control:checked~label.sk-toggleable__label {\n",
              "  color: var(--sklearn-color-text);\n",
              "  background-color: var(--sklearn-color-unfitted-level-2);\n",
              "}\n",
              "\n",
              "#sk-container-id-1 div.sk-label.fitted input.sk-toggleable__control:checked~label.sk-toggleable__label {\n",
              "  background-color: var(--sklearn-color-fitted-level-2);\n",
              "}\n",
              "\n",
              "/* Estimator-specific style */\n",
              "\n",
              "/* Colorize estimator box */\n",
              "#sk-container-id-1 div.sk-estimator input.sk-toggleable__control:checked~label.sk-toggleable__label {\n",
              "  /* unfitted */\n",
              "  background-color: var(--sklearn-color-unfitted-level-2);\n",
              "}\n",
              "\n",
              "#sk-container-id-1 div.sk-estimator.fitted input.sk-toggleable__control:checked~label.sk-toggleable__label {\n",
              "  /* fitted */\n",
              "  background-color: var(--sklearn-color-fitted-level-2);\n",
              "}\n",
              "\n",
              "#sk-container-id-1 div.sk-label label.sk-toggleable__label,\n",
              "#sk-container-id-1 div.sk-label label {\n",
              "  /* The background is the default theme color */\n",
              "  color: var(--sklearn-color-text-on-default-background);\n",
              "}\n",
              "\n",
              "/* On hover, darken the color of the background */\n",
              "#sk-container-id-1 div.sk-label:hover label.sk-toggleable__label {\n",
              "  color: var(--sklearn-color-text);\n",
              "  background-color: var(--sklearn-color-unfitted-level-2);\n",
              "}\n",
              "\n",
              "/* Label box, darken color on hover, fitted */\n",
              "#sk-container-id-1 div.sk-label.fitted:hover label.sk-toggleable__label.fitted {\n",
              "  color: var(--sklearn-color-text);\n",
              "  background-color: var(--sklearn-color-fitted-level-2);\n",
              "}\n",
              "\n",
              "/* Estimator label */\n",
              "\n",
              "#sk-container-id-1 div.sk-label label {\n",
              "  font-family: monospace;\n",
              "  font-weight: bold;\n",
              "  display: inline-block;\n",
              "  line-height: 1.2em;\n",
              "}\n",
              "\n",
              "#sk-container-id-1 div.sk-label-container {\n",
              "  text-align: center;\n",
              "}\n",
              "\n",
              "/* Estimator-specific */\n",
              "#sk-container-id-1 div.sk-estimator {\n",
              "  font-family: monospace;\n",
              "  border: 1px dotted var(--sklearn-color-border-box);\n",
              "  border-radius: 0.25em;\n",
              "  box-sizing: border-box;\n",
              "  margin-bottom: 0.5em;\n",
              "  /* unfitted */\n",
              "  background-color: var(--sklearn-color-unfitted-level-0);\n",
              "}\n",
              "\n",
              "#sk-container-id-1 div.sk-estimator.fitted {\n",
              "  /* fitted */\n",
              "  background-color: var(--sklearn-color-fitted-level-0);\n",
              "}\n",
              "\n",
              "/* on hover */\n",
              "#sk-container-id-1 div.sk-estimator:hover {\n",
              "  /* unfitted */\n",
              "  background-color: var(--sklearn-color-unfitted-level-2);\n",
              "}\n",
              "\n",
              "#sk-container-id-1 div.sk-estimator.fitted:hover {\n",
              "  /* fitted */\n",
              "  background-color: var(--sklearn-color-fitted-level-2);\n",
              "}\n",
              "\n",
              "/* Specification for estimator info (e.g. \"i\" and \"?\") */\n",
              "\n",
              "/* Common style for \"i\" and \"?\" */\n",
              "\n",
              ".sk-estimator-doc-link,\n",
              "a:link.sk-estimator-doc-link,\n",
              "a:visited.sk-estimator-doc-link {\n",
              "  float: right;\n",
              "  font-size: smaller;\n",
              "  line-height: 1em;\n",
              "  font-family: monospace;\n",
              "  background-color: var(--sklearn-color-background);\n",
              "  border-radius: 1em;\n",
              "  height: 1em;\n",
              "  width: 1em;\n",
              "  text-decoration: none !important;\n",
              "  margin-left: 0.5em;\n",
              "  text-align: center;\n",
              "  /* unfitted */\n",
              "  border: var(--sklearn-color-unfitted-level-1) 1pt solid;\n",
              "  color: var(--sklearn-color-unfitted-level-1);\n",
              "}\n",
              "\n",
              ".sk-estimator-doc-link.fitted,\n",
              "a:link.sk-estimator-doc-link.fitted,\n",
              "a:visited.sk-estimator-doc-link.fitted {\n",
              "  /* fitted */\n",
              "  border: var(--sklearn-color-fitted-level-1) 1pt solid;\n",
              "  color: var(--sklearn-color-fitted-level-1);\n",
              "}\n",
              "\n",
              "/* On hover */\n",
              "div.sk-estimator:hover .sk-estimator-doc-link:hover,\n",
              ".sk-estimator-doc-link:hover,\n",
              "div.sk-label-container:hover .sk-estimator-doc-link:hover,\n",
              ".sk-estimator-doc-link:hover {\n",
              "  /* unfitted */\n",
              "  background-color: var(--sklearn-color-unfitted-level-3);\n",
              "  color: var(--sklearn-color-background);\n",
              "  text-decoration: none;\n",
              "}\n",
              "\n",
              "div.sk-estimator.fitted:hover .sk-estimator-doc-link.fitted:hover,\n",
              ".sk-estimator-doc-link.fitted:hover,\n",
              "div.sk-label-container:hover .sk-estimator-doc-link.fitted:hover,\n",
              ".sk-estimator-doc-link.fitted:hover {\n",
              "  /* fitted */\n",
              "  background-color: var(--sklearn-color-fitted-level-3);\n",
              "  color: var(--sklearn-color-background);\n",
              "  text-decoration: none;\n",
              "}\n",
              "\n",
              "/* Span, style for the box shown on hovering the info icon */\n",
              ".sk-estimator-doc-link span {\n",
              "  display: none;\n",
              "  z-index: 9999;\n",
              "  position: relative;\n",
              "  font-weight: normal;\n",
              "  right: .2ex;\n",
              "  padding: .5ex;\n",
              "  margin: .5ex;\n",
              "  width: min-content;\n",
              "  min-width: 20ex;\n",
              "  max-width: 50ex;\n",
              "  color: var(--sklearn-color-text);\n",
              "  box-shadow: 2pt 2pt 4pt #999;\n",
              "  /* unfitted */\n",
              "  background: var(--sklearn-color-unfitted-level-0);\n",
              "  border: .5pt solid var(--sklearn-color-unfitted-level-3);\n",
              "}\n",
              "\n",
              ".sk-estimator-doc-link.fitted span {\n",
              "  /* fitted */\n",
              "  background: var(--sklearn-color-fitted-level-0);\n",
              "  border: var(--sklearn-color-fitted-level-3);\n",
              "}\n",
              "\n",
              ".sk-estimator-doc-link:hover span {\n",
              "  display: block;\n",
              "}\n",
              "\n",
              "/* \"?\"-specific style due to the `<a>` HTML tag */\n",
              "\n",
              "#sk-container-id-1 a.estimator_doc_link {\n",
              "  float: right;\n",
              "  font-size: 1rem;\n",
              "  line-height: 1em;\n",
              "  font-family: monospace;\n",
              "  background-color: var(--sklearn-color-background);\n",
              "  border-radius: 1rem;\n",
              "  height: 1rem;\n",
              "  width: 1rem;\n",
              "  text-decoration: none;\n",
              "  /* unfitted */\n",
              "  color: var(--sklearn-color-unfitted-level-1);\n",
              "  border: var(--sklearn-color-unfitted-level-1) 1pt solid;\n",
              "}\n",
              "\n",
              "#sk-container-id-1 a.estimator_doc_link.fitted {\n",
              "  /* fitted */\n",
              "  border: var(--sklearn-color-fitted-level-1) 1pt solid;\n",
              "  color: var(--sklearn-color-fitted-level-1);\n",
              "}\n",
              "\n",
              "/* On hover */\n",
              "#sk-container-id-1 a.estimator_doc_link:hover {\n",
              "  /* unfitted */\n",
              "  background-color: var(--sklearn-color-unfitted-level-3);\n",
              "  color: var(--sklearn-color-background);\n",
              "  text-decoration: none;\n",
              "}\n",
              "\n",
              "#sk-container-id-1 a.estimator_doc_link.fitted:hover {\n",
              "  /* fitted */\n",
              "  background-color: var(--sklearn-color-fitted-level-3);\n",
              "}\n",
              "</style><div id=\"sk-container-id-1\" class=\"sk-top-container\"><div class=\"sk-text-repr-fallback\"><pre>LinearRegression()</pre><b>In a Jupyter environment, please rerun this cell to show the HTML representation or trust the notebook. <br />On GitHub, the HTML representation is unable to render, please try loading this page with nbviewer.org.</b></div><div class=\"sk-container\" hidden><div class=\"sk-item\"><div class=\"sk-estimator fitted sk-toggleable\"><input class=\"sk-toggleable__control sk-hidden--visually\" id=\"sk-estimator-id-1\" type=\"checkbox\" checked><label for=\"sk-estimator-id-1\" class=\"sk-toggleable__label fitted sk-toggleable__label-arrow\"><div><div>LinearRegression</div></div><div><a class=\"sk-estimator-doc-link fitted\" rel=\"noreferrer\" target=\"_blank\" href=\"https://scikit-learn.org/1.6/modules/generated/sklearn.linear_model.LinearRegression.html\">?<span>Documentation for LinearRegression</span></a><span class=\"sk-estimator-doc-link fitted\">i<span>Fitted</span></span></div></label><div class=\"sk-toggleable__content fitted\"><pre>LinearRegression()</pre></div> </div></div></div></div>"
            ]
          },
          "metadata": {},
          "execution_count": 6
        }
      ]
    },
    {
      "cell_type": "code",
      "source": [
        "#MAKE prediction\n",
        "y_pred = model.predict(X_test)\n",
        "# Evaluate\n",
        "mse = mean_squared_error(y_test, y_pred)\n",
        "r2 = r2_score(y_test, y_pred)\n",
        "\n",
        "print(f\"Mean Squared Error: {mse}\")\n",
        "print(f\"R-squared: {r2}\")"
      ],
      "metadata": {
        "colab": {
          "base_uri": "https://localhost:8080/"
        },
        "id": "6DEyCScXPgsM",
        "outputId": "526106da-2ac4-4869-a100-07b366048c3f"
      },
      "id": "6DEyCScXPgsM",
      "execution_count": null,
      "outputs": [
        {
          "output_type": "stream",
          "name": "stdout",
          "text": [
            "Mean Squared Error: 17324.618281351148\n",
            "R-squared: 0.8782008918440809\n"
          ]
        }
      ]
    },
    {
      "cell_type": "code",
      "source": [
        "from sklearn.preprocessing import PolynomialFeatures\n",
        "\n",
        "poly = PolynomialFeatures(degree=2, include_bias=False)\n",
        "X_train_poly = poly.fit_transform(X_train)\n",
        "X_test_poly = poly.transform(X_test)\n",
        "\n",
        "model_poly = LinearRegression()\n",
        "model_poly.fit(X_train_poly, y_train)\n",
        "\n",
        "# Evaluate\n",
        "y_pred_poly = model_poly.predict(X_test_poly)\n",
        "mse_poly = mean_squared_error(y_test, y_pred_poly)\n",
        "r2_poly = r2_score(y_test, y_pred_poly)\n",
        "\n",
        "print(f\"Polynomial Mean Squared Error: {mse_poly}\")\n",
        "print(f\"Polynomial R-squared: {r2_poly}\")"
      ],
      "metadata": {
        "colab": {
          "base_uri": "https://localhost:8080/"
        },
        "id": "DWnv4RyGSdSt",
        "outputId": "18c4830a-8aa3-48d4-ce85-68acc1f3d6ee"
      },
      "id": "DWnv4RyGSdSt",
      "execution_count": 7,
      "outputs": [
        {
          "output_type": "stream",
          "name": "stdout",
          "text": [
            "Polynomial Mean Squared Error: 3849.5459368592965\n",
            "Polynomial R-squared: 0.9729361274055074\n"
          ]
        }
      ]
    },
    {
      "cell_type": "code",
      "source": [
        "from sklearn.model_selection import cross_val_score\n",
        "cv_scores = cross_val_score(model, X, y, cv=5, scoring='neg_mean_squared_error')\n",
        "\n",
        "cv_scores = -(cv_scores)\n",
        "\n",
        "# Print the cross-validation results\n",
        "print(\"Cross-validation scores (MSE): \", cv_scores)\n",
        "print(\"Average MSE across folds: \", np.mean(cv_scores))"
      ],
      "metadata": {
        "colab": {
          "base_uri": "https://localhost:8080/"
        },
        "id": "Kbv2IeKXTAHZ",
        "outputId": "41fe8fb4-6511-4a80-e29f-c2e95947c3f1"
      },
      "id": "Kbv2IeKXTAHZ",
      "execution_count": null,
      "outputs": [
        {
          "output_type": "stream",
          "name": "stdout",
          "text": [
            "Cross-validation scores (MSE):  [ 7497.09887934  6852.58671215  4886.82625425 21133.649834\n",
            " 65141.43290678]\n",
            "Average MSE across folds:  21102.31891730649\n"
          ]
        }
      ]
    },
    {
      "cell_type": "code",
      "source": [
        "from sklearn.linear_model import Lasso, Ridge\n",
        "from sklearn.model_selection import GridSearchCV\n",
        "\n",
        "#lasso\n",
        "lasso = Lasso(max_iter=10000)\n",
        "ridge = Ridge()\n",
        "#le hyper parameteres\n",
        "lasso_params = {'alpha': [0.01, 0.1, 1, 10, 100]}  # Lasso regularization strengths\n",
        "ridge_params = {'alpha': [0.01, 0.1, 1, 10, 100]}  # Ridge regularization strengths\n",
        "\n",
        "#recherhce grid lasso\n",
        "lasso_grid = GridSearchCV(lasso, lasso_params, cv=5, scoring='neg_mean_squared_error')\n",
        "lasso_grid.fit(X_train, y_train)\n",
        "\n",
        "#ridge\n",
        "ridge_grid = GridSearchCV(ridge, ridge_params, cv=5, scoring='neg_mean_squared_error')\n",
        "ridge_grid.fit(X_train, y_train)\n",
        "\n",
        "#le mailleur model\n",
        "best_lasso = lasso_grid.best_estimator_\n",
        "y_pred_lasso = best_lasso.predict(X_test)\n",
        "mse_lasso = mean_squared_error(y_test, y_pred_lasso)\n",
        "r2_lasso = r2_score(y_test, y_pred_lasso)\n",
        "\n",
        "# Ridge\n",
        "best_ridge = ridge_grid.best_estimator_\n",
        "y_pred_ridge = best_ridge.predict(X_test)\n",
        "mse_ridge = mean_squared_error(y_test, y_pred_ridge)\n",
        "r2_ridge = r2_score(y_test, y_pred_ridge)\n",
        "\n",
        "\n",
        "\n",
        "print(\"Lasso Regression:\")\n",
        "print(f\"Best Alpha: {lasso_grid.best_params_['alpha']}\")\n",
        "print(f\"Mean Squared Error: {mse_lasso}\")\n",
        "print(f\"R-squared: {r2_lasso}\\n\")\n",
        "\n",
        "print(\"Ridge Regression:\")\n",
        "print(f\"Best Alpha: {ridge_grid.best_params_['alpha']}\")\n",
        "print(f\"Mean Squared Error: {mse_ridge}\")\n",
        "print(f\"R-squared: {r2_ridge}\")"
      ],
      "metadata": {
        "colab": {
          "base_uri": "https://localhost:8080/"
        },
        "id": "HRWZbJcjZs4w",
        "outputId": "7cea77d9-bc60-4ab3-b7b3-3804569af802"
      },
      "id": "HRWZbJcjZs4w",
      "execution_count": 8,
      "outputs": [
        {
          "output_type": "stream",
          "name": "stdout",
          "text": [
            "Lasso Regression:\n",
            "Best Alpha: 0.01\n",
            "Mean Squared Error: 17442.262228710373\n",
            "R-squared: 0.8773738070774446\n",
            "\n",
            "Ridge Regression:\n",
            "Best Alpha: 0.01\n",
            "Mean Squared Error: 17442.9361606154\n",
            "R-squared: 0.8773690690622308\n"
          ]
        }
      ]
    },
    {
      "cell_type": "markdown",
      "source": [
        "First, I applied a Linear Regression model, which gave a relatively high Mean Squared Error (MSE) and an R² of 87%.\n",
        "Then, I transformed the features into polynomial features of degree 2, which improved the model significantly — the R² increased by 10%, reaching 97%, and the MSE dropped from 17,324 to 3,845.\n",
        "\n",
        "To evaluate the generalization performance, I applied cross-validation, which showed signs of overfitting, with MSEs reaching up to 65,000 and an average MSE of 21,102:\n",
        "\n",
        "\n",
        "Cross-validation scores (MSE):  \n",
        "[ 7497.10  6852.59  4886.83 21133.65 65141.43 ]\n",
        "This overfitting is likely due to the small dataset — only 160 samples.\n",
        "\n",
        "I then tested Lasso and Ridge regression with all original features (including Length2 and Length3), and they gave almost the same results as the original Linear Regression model.\n",
        "This confirms that the performance limitations are mainly caused by the small amount of data rather than irrelevant features."
      ],
      "metadata": {
        "id": "LG9kAxORprX7"
      },
      "id": "LG9kAxORprX7"
    },
    {
      "cell_type": "code",
      "source": [
        "import matplotlib.pyplot as plt\n",
        "\n",
        "plt.scatter(y_test, y_pred, color='blue', label='Predicted points')\n",
        "\n",
        "\n",
        "plt.xlabel('Actual Weight')\n",
        "plt.ylabel('Predicted Weight')\n",
        "plt.title('Actual vs Predicted')\n",
        "plt.legend()\n",
        "plt.show()\n"
      ],
      "metadata": {
        "colab": {
          "base_uri": "https://localhost:8080/",
          "height": 472
        },
        "id": "yiPh_zmVptWW",
        "outputId": "ff8a7950-8ce1-45fb-d553-61f45b86a6ea"
      },
      "id": "yiPh_zmVptWW",
      "execution_count": null,
      "outputs": [
        {
          "output_type": "display_data",
          "data": {
            "text/plain": [
              "<Figure size 640x480 with 1 Axes>"
            ],
            "image/png": "[encoded data removed]"
          },
          "metadata": {}
        }
      ]
    },
    {
      "cell_type": "markdown",
      "source": [],
      "metadata": {
        "id": "bOSgdUhot5cb"
      },
      "id": "bOSgdUhot5cb"
    },
    {
      "cell_type": "code",
      "source": [],
      "metadata": {
        "id": "Dai7ZLvkrdPc"
      },
      "id": "Dai7ZLvkrdPc",
      "execution_count": null,
      "outputs": []
    }
  ],
  "metadata": {
    "kernelspec": {
      "display_name": "Python 3 (ipykernel)",
      "language": "python",
      "name": "python3"
    },
    "language_info": {
      "codemirror_mode": {
        "name": "ipython",
        "version": 3
      },
      "file_extension": ".py",
      "mimetype": "text/x-python",
      "name": "python",
      "nbconvert_exporter": "python",
      "pygments_lexer": "ipython3",
      "version": "3.13.2"
    },
    "colab": {
      "provenance": []
    }
  },
  "nbformat": 4,
  "nbformat_minor": 5
}